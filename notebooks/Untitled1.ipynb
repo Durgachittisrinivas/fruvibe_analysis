{
 "cells": [
  {
   "cell_type": "markdown",
   "id": "59ad2134-e381-4919-ae8d-2f99e010ec71",
   "metadata": {},
   "source": [
    "### Insight: Orders by AreaGroup\n",
    "- Stratford-EastHam and Ilford-Redbridge are the strongest demand hotspots.\n",
    "- Docklands and Hackney-BethnalGreen are secondary but still significant.\n",
    "- This indicates East London demand clusters around Stratford and Ilford.\n"
   ]
  },
  {
   "cell_type": "code",
   "execution_count": null,
   "id": "b982a2c3-9d4a-4ca2-a908-4e0dd5ea50f0",
   "metadata": {},
   "outputs": [],
   "source": [
    "order_type_counts = orders[\"OrderType\"].value_counts(normalize=True) * 100\n",
    "\n",
    "plt.figure(figsize=(5,5))\n",
    "order_type_counts.plot(\n",
    "    kind=\"pie\", \n",
    "    autopct=\"%.1f%%\", \n",
    "    startangle=90, \n",
    "    colors=[\"gold\",\"lightgreen\"]\n",
    ")\n",
    "plt.title(\"Subscription vs One-Time Orders\")\n",
    "plt.ylabel(\"\")\n",
    "plt.show()\n"
   ]
  },
  {
   "cell_type": "markdown",
   "id": "fa80515d-d03d-4394-8667-89e53c873b05",
   "metadata": {},
   "source": [
    "### Insight: Subscription vs One-Time\n",
    "- ~70% of orders are one-time platters vs ~30% subscription.\n",
    "- Customers prefer flexibility, but subscriptions still provide steady revenue.\n",
    "- Opportunity: target high-loyalty customers with subscription offers.\n"
   ]
  },
  {
   "cell_type": "code",
   "execution_count": null,
   "id": "0916219a-d07c-4ae1-956e-01a3fe14cad5",
   "metadata": {},
   "outputs": [],
   "source": [
    "age_counts = survey[\"Age_Group\"].value_counts().sort_index()\n",
    "\n",
    "plt.figure(figsize=(6,4))\n",
    "age_counts.plot(kind=\"bar\", color=\"lightcoral\", edgecolor=\"black\")\n",
    "plt.title(\"Customer Age Group Distribution\")\n",
    "plt.ylabel(\"Number of Respondents\")\n",
    "plt.xticks(rotation=0)\n",
    "plt.show()"
   ]
  },
  {
   "cell_type": "markdown",
   "id": "eb3fb971-af31-44c6-a62e-1f8ce0252cef",
   "metadata": {},
   "source": [
    "### Insight: Age Segments\n",
    "- Majority of customers fall in 26–35 and 36–45 brackets.\n",
    "- Younger segment (18–25) shows potential for growth with targeted campaigns.\n",
    "- Older customers (46–60) form a stable base for subscriptions.\n"
   ]
  },
  {
   "cell_type": "code",
   "execution_count": null,
   "id": "9de0561b-9672-4740-b421-6963ae2157d1",
   "metadata": {},
   "outputs": [],
   "source": [
    "pilot_perf = (\n",
    "    orders.groupby([\"PrePostPilot\",\"DeliverySlot\"])[\"IsOnTime\"]\n",
    "    .mean()\n",
    "    .unstack()\n",
    ")\n",
    "\n",
    "pilot_perf.plot(kind=\"bar\", figsize=(7,5), color=[\"skyblue\",\"orange\"])\n",
    "plt.title(\"On-Time Delivery Rate: Morning vs Evening (Pre vs Post Pilot)\")\n",
    "plt.ylabel(\"On-Time Rate\")\n",
    "plt.xticks(rotation=0)\n",
    "plt.show()\n"
   ]
  },
  {
   "cell_type": "markdown",
   "id": "13671965-c6c0-484b-83c5-074907f65ab2",
   "metadata": {},
   "source": [
    "### Insight: On-Time Delivery (Morning vs Evening Pilot)\n",
    "- Morning deliveries consistently performed well (~95% on-time).\n",
    "- Evening deliveries improved significantly after the June 10th pilot.\n",
    "- Recommendation: scale evening delivery slots to meet demand and capture “evening snack” market.\n"
   ]
  },
  {
   "cell_type": "code",
   "execution_count": null,
   "id": "47e8f630-1613-466d-9799-8f4c7d180658",
   "metadata": {},
   "outputs": [],
   "source": [
    "loyalty_counts = survey[\"Loyalty_Segment\"].value_counts()\n",
    "\n",
    "plt.figure(figsize=(5,4))\n",
    "loyalty_counts.plot(kind=\"bar\", color=\"seagreen\", edgecolor=\"black\")\n",
    "plt.title(\"Customer Loyalty Segments\")\n",
    "plt.ylabel(\"Number of Respondents\")\n",
    "plt.xticks(rotation=0)\n",
    "plt.show()\n"
   ]
  },
  {
   "cell_type": "markdown",
   "id": "519ef453-2405-4e8c-877a-0109db39c984",
   "metadata": {},
   "source": [
    "### Insight: Loyalty Segments\n",
    "- High loyalty (weekly buyers) make up a strong share of the customer base.\n",
    "- Medium loyalty (bi-weekly) dominate the segment.\n",
    "- Low loyalty (monthly) still represent a large untapped conversion pool.\n"
   ]
  },
  {
   "cell_type": "code",
   "execution_count": null,
   "id": "60dac4ee-beec-45d0-8544-13a3f7eb1766",
   "metadata": {},
   "outputs": [],
   "source": [
    "sub_interest = survey[\"Subscription_Interest\"].value_counts(normalize=True) * 100\n",
    "\n",
    "plt.figure(figsize=(5,5))\n",
    "sub_interest.plot(\n",
    "    kind=\"pie\",\n",
    "    autopct=\"%.1f%%\",\n",
    "    startangle=90,\n",
    "    colors=[\"gold\",\"lightblue\"]\n",
    ")\n",
    "plt.title(\"Customer Interest in Subscriptions\")\n",
    "plt.ylabel(\"\")\n",
    "plt.show()"
   ]
  },
  {
   "cell_type": "markdown",
   "id": "0fe3412b-7e71-4bb4-9c88-8651b46c324b",
   "metadata": {},
   "source": [
    "### Insight: Subscription Interest\n",
    "- ~30% of customers express interest in subscriptions, consistent with actual orders.\n",
    "- Strong alignment between survey feedback and sales data.\n",
    "- Opportunity: push “Essence” and “Elevate” plans for higher-value customers.\n"
   ]
  },
  {
   "cell_type": "code",
   "execution_count": null,
   "id": "ba308548-d5c2-4dbe-87c6-ae7a02d7d582",
   "metadata": {},
   "outputs": [],
   "source": [
    "delivery_pref = survey[\"DeliveryWindow_Preference\"].value_counts(normalize=True) *100\n",
    "\n",
    "plt.figure(figsize=(5,5))\n",
    "delivery_pref.plot(\n",
    "    kind=\"pie\",\n",
    "    autopct=\"%.1f%%\",\n",
    "    startangle=90,\n",
    "    colors=[\"purple\",\"skyblue\"]\n",
    ")\n",
    "plt.title(\"Preferred Delivery Window\")\n",
    "plt.ylabel(\"\")\n",
    "plt.show()\n"
   ]
  },
  {
   "cell_type": "code",
   "execution_count": null,
   "id": "e9123129-d9fd-4fa2-857e-eec1475c4de4",
   "metadata": {},
   "outputs": [],
   "source": [
    "### Insight: Delivery Preferences\n",
    "- Customers are nearly evenly split between Morning and Evening preference.\n",
    "- Evening slot interest validates the operational pilot test.\n",
    "- Expanding evening deliveries could unlock additional demand.\n"
   ]
  },
  {
   "cell_type": "code",
   "execution_count": null,
   "id": "52d5f037-18de-4fb5-ae3b-3e81e1596359",
   "metadata": {},
   "outputs": [],
   "source": []
  }
 ],
 "metadata": {
  "kernelspec": {
   "display_name": "Python 3 (ipykernel)",
   "language": "python",
   "name": "python3"
  },
  "language_info": {
   "codemirror_mode": {
    "name": "ipython",
    "version": 3
   },
   "file_extension": ".py",
   "mimetype": "text/x-python",
   "name": "python",
   "nbconvert_exporter": "python",
   "pygments_lexer": "ipython3",
   "version": "3.13.7"
  }
 },
 "nbformat": 4,
 "nbformat_minor": 5
}
