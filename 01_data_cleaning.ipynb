{
 "cells": [
  {
   "cell_type": "code",
   "execution_count": 2,
   "id": "0e1b4314-4750-4def-b776-08603d585347",
   "metadata": {},
   "outputs": [
    {
     "ename": "FileNotFoundError",
     "evalue": "[Errno 2] No such file or directory: '../data/raw/fruvibe_survey.csv'",
     "output_type": "error",
     "traceback": [
      "\u001b[31m---------------------------------------------------------------------------\u001b[39m",
      "\u001b[31mFileNotFoundError\u001b[39m                         Traceback (most recent call last)",
      "\u001b[36mCell\u001b[39m\u001b[36m \u001b[39m\u001b[32mIn[2]\u001b[39m\u001b[32m, line 4\u001b[39m\n\u001b[32m      1\u001b[39m \u001b[38;5;28;01mimport\u001b[39;00m\u001b[38;5;250m \u001b[39m\u001b[34;01mpandas\u001b[39;00m\u001b[38;5;250m \u001b[39m\u001b[38;5;28;01mas\u001b[39;00m\u001b[38;5;250m \u001b[39m\u001b[34;01mpd\u001b[39;00m\n\u001b[32m      3\u001b[39m \u001b[38;5;66;03m# Load survey + orders\u001b[39;00m\n\u001b[32m----> \u001b[39m\u001b[32m4\u001b[39m survey = \u001b[43mpd\u001b[49m\u001b[43m.\u001b[49m\u001b[43mread_csv\u001b[49m\u001b[43m(\u001b[49m\u001b[33;43m\"\u001b[39;49m\u001b[33;43m../data/raw/fruvibe_survey.csv\u001b[39;49m\u001b[33;43m\"\u001b[39;49m\u001b[43m)\u001b[49m\n\u001b[32m      5\u001b[39m orders = pd.read_csv(\u001b[33m\"\u001b[39m\u001b[33m../data/raw/fruvibe_orders.csv\u001b[39m\u001b[33m\"\u001b[39m)\n\u001b[32m      7\u001b[39m \u001b[38;5;66;03m# Quick check\u001b[39;00m\n",
      "\u001b[36mFile \u001b[39m\u001b[32m~\\OneDrive\\Desktop\\fruvube project\\Fruvvibe\\.venv\\Lib\\site-packages\\pandas\\io\\parsers\\readers.py:1026\u001b[39m, in \u001b[36mread_csv\u001b[39m\u001b[34m(filepath_or_buffer, sep, delimiter, header, names, index_col, usecols, dtype, engine, converters, true_values, false_values, skipinitialspace, skiprows, skipfooter, nrows, na_values, keep_default_na, na_filter, verbose, skip_blank_lines, parse_dates, infer_datetime_format, keep_date_col, date_parser, date_format, dayfirst, cache_dates, iterator, chunksize, compression, thousands, decimal, lineterminator, quotechar, quoting, doublequote, escapechar, comment, encoding, encoding_errors, dialect, on_bad_lines, delim_whitespace, low_memory, memory_map, float_precision, storage_options, dtype_backend)\u001b[39m\n\u001b[32m   1013\u001b[39m kwds_defaults = _refine_defaults_read(\n\u001b[32m   1014\u001b[39m     dialect,\n\u001b[32m   1015\u001b[39m     delimiter,\n\u001b[32m   (...)\u001b[39m\u001b[32m   1022\u001b[39m     dtype_backend=dtype_backend,\n\u001b[32m   1023\u001b[39m )\n\u001b[32m   1024\u001b[39m kwds.update(kwds_defaults)\n\u001b[32m-> \u001b[39m\u001b[32m1026\u001b[39m \u001b[38;5;28;01mreturn\u001b[39;00m \u001b[43m_read\u001b[49m\u001b[43m(\u001b[49m\u001b[43mfilepath_or_buffer\u001b[49m\u001b[43m,\u001b[49m\u001b[43m \u001b[49m\u001b[43mkwds\u001b[49m\u001b[43m)\u001b[49m\n",
      "\u001b[36mFile \u001b[39m\u001b[32m~\\OneDrive\\Desktop\\fruvube project\\Fruvvibe\\.venv\\Lib\\site-packages\\pandas\\io\\parsers\\readers.py:620\u001b[39m, in \u001b[36m_read\u001b[39m\u001b[34m(filepath_or_buffer, kwds)\u001b[39m\n\u001b[32m    617\u001b[39m _validate_names(kwds.get(\u001b[33m\"\u001b[39m\u001b[33mnames\u001b[39m\u001b[33m\"\u001b[39m, \u001b[38;5;28;01mNone\u001b[39;00m))\n\u001b[32m    619\u001b[39m \u001b[38;5;66;03m# Create the parser.\u001b[39;00m\n\u001b[32m--> \u001b[39m\u001b[32m620\u001b[39m parser = \u001b[43mTextFileReader\u001b[49m\u001b[43m(\u001b[49m\u001b[43mfilepath_or_buffer\u001b[49m\u001b[43m,\u001b[49m\u001b[43m \u001b[49m\u001b[43m*\u001b[49m\u001b[43m*\u001b[49m\u001b[43mkwds\u001b[49m\u001b[43m)\u001b[49m\n\u001b[32m    622\u001b[39m \u001b[38;5;28;01mif\u001b[39;00m chunksize \u001b[38;5;129;01mor\u001b[39;00m iterator:\n\u001b[32m    623\u001b[39m     \u001b[38;5;28;01mreturn\u001b[39;00m parser\n",
      "\u001b[36mFile \u001b[39m\u001b[32m~\\OneDrive\\Desktop\\fruvube project\\Fruvvibe\\.venv\\Lib\\site-packages\\pandas\\io\\parsers\\readers.py:1620\u001b[39m, in \u001b[36mTextFileReader.__init__\u001b[39m\u001b[34m(self, f, engine, **kwds)\u001b[39m\n\u001b[32m   1617\u001b[39m     \u001b[38;5;28mself\u001b[39m.options[\u001b[33m\"\u001b[39m\u001b[33mhas_index_names\u001b[39m\u001b[33m\"\u001b[39m] = kwds[\u001b[33m\"\u001b[39m\u001b[33mhas_index_names\u001b[39m\u001b[33m\"\u001b[39m]\n\u001b[32m   1619\u001b[39m \u001b[38;5;28mself\u001b[39m.handles: IOHandles | \u001b[38;5;28;01mNone\u001b[39;00m = \u001b[38;5;28;01mNone\u001b[39;00m\n\u001b[32m-> \u001b[39m\u001b[32m1620\u001b[39m \u001b[38;5;28mself\u001b[39m._engine = \u001b[38;5;28;43mself\u001b[39;49m\u001b[43m.\u001b[49m\u001b[43m_make_engine\u001b[49m\u001b[43m(\u001b[49m\u001b[43mf\u001b[49m\u001b[43m,\u001b[49m\u001b[43m \u001b[49m\u001b[38;5;28;43mself\u001b[39;49m\u001b[43m.\u001b[49m\u001b[43mengine\u001b[49m\u001b[43m)\u001b[49m\n",
      "\u001b[36mFile \u001b[39m\u001b[32m~\\OneDrive\\Desktop\\fruvube project\\Fruvvibe\\.venv\\Lib\\site-packages\\pandas\\io\\parsers\\readers.py:1880\u001b[39m, in \u001b[36mTextFileReader._make_engine\u001b[39m\u001b[34m(self, f, engine)\u001b[39m\n\u001b[32m   1878\u001b[39m     \u001b[38;5;28;01mif\u001b[39;00m \u001b[33m\"\u001b[39m\u001b[33mb\u001b[39m\u001b[33m\"\u001b[39m \u001b[38;5;129;01mnot\u001b[39;00m \u001b[38;5;129;01min\u001b[39;00m mode:\n\u001b[32m   1879\u001b[39m         mode += \u001b[33m\"\u001b[39m\u001b[33mb\u001b[39m\u001b[33m\"\u001b[39m\n\u001b[32m-> \u001b[39m\u001b[32m1880\u001b[39m \u001b[38;5;28mself\u001b[39m.handles = \u001b[43mget_handle\u001b[49m\u001b[43m(\u001b[49m\n\u001b[32m   1881\u001b[39m \u001b[43m    \u001b[49m\u001b[43mf\u001b[49m\u001b[43m,\u001b[49m\n\u001b[32m   1882\u001b[39m \u001b[43m    \u001b[49m\u001b[43mmode\u001b[49m\u001b[43m,\u001b[49m\n\u001b[32m   1883\u001b[39m \u001b[43m    \u001b[49m\u001b[43mencoding\u001b[49m\u001b[43m=\u001b[49m\u001b[38;5;28;43mself\u001b[39;49m\u001b[43m.\u001b[49m\u001b[43moptions\u001b[49m\u001b[43m.\u001b[49m\u001b[43mget\u001b[49m\u001b[43m(\u001b[49m\u001b[33;43m\"\u001b[39;49m\u001b[33;43mencoding\u001b[39;49m\u001b[33;43m\"\u001b[39;49m\u001b[43m,\u001b[49m\u001b[43m \u001b[49m\u001b[38;5;28;43;01mNone\u001b[39;49;00m\u001b[43m)\u001b[49m\u001b[43m,\u001b[49m\n\u001b[32m   1884\u001b[39m \u001b[43m    \u001b[49m\u001b[43mcompression\u001b[49m\u001b[43m=\u001b[49m\u001b[38;5;28;43mself\u001b[39;49m\u001b[43m.\u001b[49m\u001b[43moptions\u001b[49m\u001b[43m.\u001b[49m\u001b[43mget\u001b[49m\u001b[43m(\u001b[49m\u001b[33;43m\"\u001b[39;49m\u001b[33;43mcompression\u001b[39;49m\u001b[33;43m\"\u001b[39;49m\u001b[43m,\u001b[49m\u001b[43m \u001b[49m\u001b[38;5;28;43;01mNone\u001b[39;49;00m\u001b[43m)\u001b[49m\u001b[43m,\u001b[49m\n\u001b[32m   1885\u001b[39m \u001b[43m    \u001b[49m\u001b[43mmemory_map\u001b[49m\u001b[43m=\u001b[49m\u001b[38;5;28;43mself\u001b[39;49m\u001b[43m.\u001b[49m\u001b[43moptions\u001b[49m\u001b[43m.\u001b[49m\u001b[43mget\u001b[49m\u001b[43m(\u001b[49m\u001b[33;43m\"\u001b[39;49m\u001b[33;43mmemory_map\u001b[39;49m\u001b[33;43m\"\u001b[39;49m\u001b[43m,\u001b[49m\u001b[43m \u001b[49m\u001b[38;5;28;43;01mFalse\u001b[39;49;00m\u001b[43m)\u001b[49m\u001b[43m,\u001b[49m\n\u001b[32m   1886\u001b[39m \u001b[43m    \u001b[49m\u001b[43mis_text\u001b[49m\u001b[43m=\u001b[49m\u001b[43mis_text\u001b[49m\u001b[43m,\u001b[49m\n\u001b[32m   1887\u001b[39m \u001b[43m    \u001b[49m\u001b[43merrors\u001b[49m\u001b[43m=\u001b[49m\u001b[38;5;28;43mself\u001b[39;49m\u001b[43m.\u001b[49m\u001b[43moptions\u001b[49m\u001b[43m.\u001b[49m\u001b[43mget\u001b[49m\u001b[43m(\u001b[49m\u001b[33;43m\"\u001b[39;49m\u001b[33;43mencoding_errors\u001b[39;49m\u001b[33;43m\"\u001b[39;49m\u001b[43m,\u001b[49m\u001b[43m \u001b[49m\u001b[33;43m\"\u001b[39;49m\u001b[33;43mstrict\u001b[39;49m\u001b[33;43m\"\u001b[39;49m\u001b[43m)\u001b[49m\u001b[43m,\u001b[49m\n\u001b[32m   1888\u001b[39m \u001b[43m    \u001b[49m\u001b[43mstorage_options\u001b[49m\u001b[43m=\u001b[49m\u001b[38;5;28;43mself\u001b[39;49m\u001b[43m.\u001b[49m\u001b[43moptions\u001b[49m\u001b[43m.\u001b[49m\u001b[43mget\u001b[49m\u001b[43m(\u001b[49m\u001b[33;43m\"\u001b[39;49m\u001b[33;43mstorage_options\u001b[39;49m\u001b[33;43m\"\u001b[39;49m\u001b[43m,\u001b[49m\u001b[43m \u001b[49m\u001b[38;5;28;43;01mNone\u001b[39;49;00m\u001b[43m)\u001b[49m\u001b[43m,\u001b[49m\n\u001b[32m   1889\u001b[39m \u001b[43m\u001b[49m\u001b[43m)\u001b[49m\n\u001b[32m   1890\u001b[39m \u001b[38;5;28;01massert\u001b[39;00m \u001b[38;5;28mself\u001b[39m.handles \u001b[38;5;129;01mis\u001b[39;00m \u001b[38;5;129;01mnot\u001b[39;00m \u001b[38;5;28;01mNone\u001b[39;00m\n\u001b[32m   1891\u001b[39m f = \u001b[38;5;28mself\u001b[39m.handles.handle\n",
      "\u001b[36mFile \u001b[39m\u001b[32m~\\OneDrive\\Desktop\\fruvube project\\Fruvvibe\\.venv\\Lib\\site-packages\\pandas\\io\\common.py:873\u001b[39m, in \u001b[36mget_handle\u001b[39m\u001b[34m(path_or_buf, mode, encoding, compression, memory_map, is_text, errors, storage_options)\u001b[39m\n\u001b[32m    868\u001b[39m \u001b[38;5;28;01melif\u001b[39;00m \u001b[38;5;28misinstance\u001b[39m(handle, \u001b[38;5;28mstr\u001b[39m):\n\u001b[32m    869\u001b[39m     \u001b[38;5;66;03m# Check whether the filename is to be opened in binary mode.\u001b[39;00m\n\u001b[32m    870\u001b[39m     \u001b[38;5;66;03m# Binary mode does not support 'encoding' and 'newline'.\u001b[39;00m\n\u001b[32m    871\u001b[39m     \u001b[38;5;28;01mif\u001b[39;00m ioargs.encoding \u001b[38;5;129;01mand\u001b[39;00m \u001b[33m\"\u001b[39m\u001b[33mb\u001b[39m\u001b[33m\"\u001b[39m \u001b[38;5;129;01mnot\u001b[39;00m \u001b[38;5;129;01min\u001b[39;00m ioargs.mode:\n\u001b[32m    872\u001b[39m         \u001b[38;5;66;03m# Encoding\u001b[39;00m\n\u001b[32m--> \u001b[39m\u001b[32m873\u001b[39m         handle = \u001b[38;5;28;43mopen\u001b[39;49m\u001b[43m(\u001b[49m\n\u001b[32m    874\u001b[39m \u001b[43m            \u001b[49m\u001b[43mhandle\u001b[49m\u001b[43m,\u001b[49m\n\u001b[32m    875\u001b[39m \u001b[43m            \u001b[49m\u001b[43mioargs\u001b[49m\u001b[43m.\u001b[49m\u001b[43mmode\u001b[49m\u001b[43m,\u001b[49m\n\u001b[32m    876\u001b[39m \u001b[43m            \u001b[49m\u001b[43mencoding\u001b[49m\u001b[43m=\u001b[49m\u001b[43mioargs\u001b[49m\u001b[43m.\u001b[49m\u001b[43mencoding\u001b[49m\u001b[43m,\u001b[49m\n\u001b[32m    877\u001b[39m \u001b[43m            \u001b[49m\u001b[43merrors\u001b[49m\u001b[43m=\u001b[49m\u001b[43merrors\u001b[49m\u001b[43m,\u001b[49m\n\u001b[32m    878\u001b[39m \u001b[43m            \u001b[49m\u001b[43mnewline\u001b[49m\u001b[43m=\u001b[49m\u001b[33;43m\"\u001b[39;49m\u001b[33;43m\"\u001b[39;49m\u001b[43m,\u001b[49m\n\u001b[32m    879\u001b[39m \u001b[43m        \u001b[49m\u001b[43m)\u001b[49m\n\u001b[32m    880\u001b[39m     \u001b[38;5;28;01melse\u001b[39;00m:\n\u001b[32m    881\u001b[39m         \u001b[38;5;66;03m# Binary mode\u001b[39;00m\n\u001b[32m    882\u001b[39m         handle = \u001b[38;5;28mopen\u001b[39m(handle, ioargs.mode)\n",
      "\u001b[31mFileNotFoundError\u001b[39m: [Errno 2] No such file or directory: '../data/raw/fruvibe_survey.csv'"
     ]
    }
   ],
   "source": [
    "\n",
    "import pandas as pd\n",
    "\n",
    "# Load survey + orders\n",
    "survey = pd.read_csv(\"../data/raw/fruvibe_survey.csv\")\n",
    "orders = pd.read_csv(\"../data/raw/fruvibe_orders.csv\")\n",
    "\n",
    "# Quick check\n",
    "print(\"Survey shape:\", survey.shape)\n",
    "print(\"Orders shape:\", orders.shape)\n",
    "\n",
    "survey.head(), orders.head()\n"
   ]
  },
  {
   "cell_type": "code",
   "execution_count": 3,
   "id": "e3222361-b5f3-4284-90e5-cc8b4c0984a6",
   "metadata": {},
   "outputs": [
    {
     "ename": "FileNotFoundError",
     "evalue": "[Errno 2] No such file or directory: '../data/raw/fruvibe_survey.csv'",
     "output_type": "error",
     "traceback": [
      "\u001b[31m---------------------------------------------------------------------------\u001b[39m",
      "\u001b[31mFileNotFoundError\u001b[39m                         Traceback (most recent call last)",
      "\u001b[36mCell\u001b[39m\u001b[36m \u001b[39m\u001b[32mIn[3]\u001b[39m\u001b[32m, line 4\u001b[39m\n\u001b[32m      1\u001b[39m \u001b[38;5;28;01mimport\u001b[39;00m\u001b[38;5;250m \u001b[39m\u001b[34;01mpandas\u001b[39;00m\u001b[38;5;250m \u001b[39m\u001b[38;5;28;01mas\u001b[39;00m\u001b[38;5;250m \u001b[39m\u001b[34;01mpd\u001b[39;00m\n\u001b[32m      3\u001b[39m \u001b[38;5;66;03m# Load survey + orders\u001b[39;00m\n\u001b[32m----> \u001b[39m\u001b[32m4\u001b[39m survey = \u001b[43mpd\u001b[49m\u001b[43m.\u001b[49m\u001b[43mread_csv\u001b[49m\u001b[43m(\u001b[49m\u001b[33;43m\"\u001b[39;49m\u001b[33;43m../data/raw/fruvibe_survey.csv\u001b[39;49m\u001b[33;43m\"\u001b[39;49m\u001b[43m)\u001b[49m\n\u001b[32m      5\u001b[39m orders = pd.read_csv(\u001b[33m\"\u001b[39m\u001b[33m../data/raw/fruvibe_orders.csv\u001b[39m\u001b[33m\"\u001b[39m)\n\u001b[32m      7\u001b[39m \u001b[38;5;66;03m# Quick check\u001b[39;00m\n",
      "\u001b[36mFile \u001b[39m\u001b[32m~\\OneDrive\\Desktop\\fruvube project\\Fruvvibe\\.venv\\Lib\\site-packages\\pandas\\io\\parsers\\readers.py:1026\u001b[39m, in \u001b[36mread_csv\u001b[39m\u001b[34m(filepath_or_buffer, sep, delimiter, header, names, index_col, usecols, dtype, engine, converters, true_values, false_values, skipinitialspace, skiprows, skipfooter, nrows, na_values, keep_default_na, na_filter, verbose, skip_blank_lines, parse_dates, infer_datetime_format, keep_date_col, date_parser, date_format, dayfirst, cache_dates, iterator, chunksize, compression, thousands, decimal, lineterminator, quotechar, quoting, doublequote, escapechar, comment, encoding, encoding_errors, dialect, on_bad_lines, delim_whitespace, low_memory, memory_map, float_precision, storage_options, dtype_backend)\u001b[39m\n\u001b[32m   1013\u001b[39m kwds_defaults = _refine_defaults_read(\n\u001b[32m   1014\u001b[39m     dialect,\n\u001b[32m   1015\u001b[39m     delimiter,\n\u001b[32m   (...)\u001b[39m\u001b[32m   1022\u001b[39m     dtype_backend=dtype_backend,\n\u001b[32m   1023\u001b[39m )\n\u001b[32m   1024\u001b[39m kwds.update(kwds_defaults)\n\u001b[32m-> \u001b[39m\u001b[32m1026\u001b[39m \u001b[38;5;28;01mreturn\u001b[39;00m \u001b[43m_read\u001b[49m\u001b[43m(\u001b[49m\u001b[43mfilepath_or_buffer\u001b[49m\u001b[43m,\u001b[49m\u001b[43m \u001b[49m\u001b[43mkwds\u001b[49m\u001b[43m)\u001b[49m\n",
      "\u001b[36mFile \u001b[39m\u001b[32m~\\OneDrive\\Desktop\\fruvube project\\Fruvvibe\\.venv\\Lib\\site-packages\\pandas\\io\\parsers\\readers.py:620\u001b[39m, in \u001b[36m_read\u001b[39m\u001b[34m(filepath_or_buffer, kwds)\u001b[39m\n\u001b[32m    617\u001b[39m _validate_names(kwds.get(\u001b[33m\"\u001b[39m\u001b[33mnames\u001b[39m\u001b[33m\"\u001b[39m, \u001b[38;5;28;01mNone\u001b[39;00m))\n\u001b[32m    619\u001b[39m \u001b[38;5;66;03m# Create the parser.\u001b[39;00m\n\u001b[32m--> \u001b[39m\u001b[32m620\u001b[39m parser = \u001b[43mTextFileReader\u001b[49m\u001b[43m(\u001b[49m\u001b[43mfilepath_or_buffer\u001b[49m\u001b[43m,\u001b[49m\u001b[43m \u001b[49m\u001b[43m*\u001b[49m\u001b[43m*\u001b[49m\u001b[43mkwds\u001b[49m\u001b[43m)\u001b[49m\n\u001b[32m    622\u001b[39m \u001b[38;5;28;01mif\u001b[39;00m chunksize \u001b[38;5;129;01mor\u001b[39;00m iterator:\n\u001b[32m    623\u001b[39m     \u001b[38;5;28;01mreturn\u001b[39;00m parser\n",
      "\u001b[36mFile \u001b[39m\u001b[32m~\\OneDrive\\Desktop\\fruvube project\\Fruvvibe\\.venv\\Lib\\site-packages\\pandas\\io\\parsers\\readers.py:1620\u001b[39m, in \u001b[36mTextFileReader.__init__\u001b[39m\u001b[34m(self, f, engine, **kwds)\u001b[39m\n\u001b[32m   1617\u001b[39m     \u001b[38;5;28mself\u001b[39m.options[\u001b[33m\"\u001b[39m\u001b[33mhas_index_names\u001b[39m\u001b[33m\"\u001b[39m] = kwds[\u001b[33m\"\u001b[39m\u001b[33mhas_index_names\u001b[39m\u001b[33m\"\u001b[39m]\n\u001b[32m   1619\u001b[39m \u001b[38;5;28mself\u001b[39m.handles: IOHandles | \u001b[38;5;28;01mNone\u001b[39;00m = \u001b[38;5;28;01mNone\u001b[39;00m\n\u001b[32m-> \u001b[39m\u001b[32m1620\u001b[39m \u001b[38;5;28mself\u001b[39m._engine = \u001b[38;5;28;43mself\u001b[39;49m\u001b[43m.\u001b[49m\u001b[43m_make_engine\u001b[49m\u001b[43m(\u001b[49m\u001b[43mf\u001b[49m\u001b[43m,\u001b[49m\u001b[43m \u001b[49m\u001b[38;5;28;43mself\u001b[39;49m\u001b[43m.\u001b[49m\u001b[43mengine\u001b[49m\u001b[43m)\u001b[49m\n",
      "\u001b[36mFile \u001b[39m\u001b[32m~\\OneDrive\\Desktop\\fruvube project\\Fruvvibe\\.venv\\Lib\\site-packages\\pandas\\io\\parsers\\readers.py:1880\u001b[39m, in \u001b[36mTextFileReader._make_engine\u001b[39m\u001b[34m(self, f, engine)\u001b[39m\n\u001b[32m   1878\u001b[39m     \u001b[38;5;28;01mif\u001b[39;00m \u001b[33m\"\u001b[39m\u001b[33mb\u001b[39m\u001b[33m\"\u001b[39m \u001b[38;5;129;01mnot\u001b[39;00m \u001b[38;5;129;01min\u001b[39;00m mode:\n\u001b[32m   1879\u001b[39m         mode += \u001b[33m\"\u001b[39m\u001b[33mb\u001b[39m\u001b[33m\"\u001b[39m\n\u001b[32m-> \u001b[39m\u001b[32m1880\u001b[39m \u001b[38;5;28mself\u001b[39m.handles = \u001b[43mget_handle\u001b[49m\u001b[43m(\u001b[49m\n\u001b[32m   1881\u001b[39m \u001b[43m    \u001b[49m\u001b[43mf\u001b[49m\u001b[43m,\u001b[49m\n\u001b[32m   1882\u001b[39m \u001b[43m    \u001b[49m\u001b[43mmode\u001b[49m\u001b[43m,\u001b[49m\n\u001b[32m   1883\u001b[39m \u001b[43m    \u001b[49m\u001b[43mencoding\u001b[49m\u001b[43m=\u001b[49m\u001b[38;5;28;43mself\u001b[39;49m\u001b[43m.\u001b[49m\u001b[43moptions\u001b[49m\u001b[43m.\u001b[49m\u001b[43mget\u001b[49m\u001b[43m(\u001b[49m\u001b[33;43m\"\u001b[39;49m\u001b[33;43mencoding\u001b[39;49m\u001b[33;43m\"\u001b[39;49m\u001b[43m,\u001b[49m\u001b[43m \u001b[49m\u001b[38;5;28;43;01mNone\u001b[39;49;00m\u001b[43m)\u001b[49m\u001b[43m,\u001b[49m\n\u001b[32m   1884\u001b[39m \u001b[43m    \u001b[49m\u001b[43mcompression\u001b[49m\u001b[43m=\u001b[49m\u001b[38;5;28;43mself\u001b[39;49m\u001b[43m.\u001b[49m\u001b[43moptions\u001b[49m\u001b[43m.\u001b[49m\u001b[43mget\u001b[49m\u001b[43m(\u001b[49m\u001b[33;43m\"\u001b[39;49m\u001b[33;43mcompression\u001b[39;49m\u001b[33;43m\"\u001b[39;49m\u001b[43m,\u001b[49m\u001b[43m \u001b[49m\u001b[38;5;28;43;01mNone\u001b[39;49;00m\u001b[43m)\u001b[49m\u001b[43m,\u001b[49m\n\u001b[32m   1885\u001b[39m \u001b[43m    \u001b[49m\u001b[43mmemory_map\u001b[49m\u001b[43m=\u001b[49m\u001b[38;5;28;43mself\u001b[39;49m\u001b[43m.\u001b[49m\u001b[43moptions\u001b[49m\u001b[43m.\u001b[49m\u001b[43mget\u001b[49m\u001b[43m(\u001b[49m\u001b[33;43m\"\u001b[39;49m\u001b[33;43mmemory_map\u001b[39;49m\u001b[33;43m\"\u001b[39;49m\u001b[43m,\u001b[49m\u001b[43m \u001b[49m\u001b[38;5;28;43;01mFalse\u001b[39;49;00m\u001b[43m)\u001b[49m\u001b[43m,\u001b[49m\n\u001b[32m   1886\u001b[39m \u001b[43m    \u001b[49m\u001b[43mis_text\u001b[49m\u001b[43m=\u001b[49m\u001b[43mis_text\u001b[49m\u001b[43m,\u001b[49m\n\u001b[32m   1887\u001b[39m \u001b[43m    \u001b[49m\u001b[43merrors\u001b[49m\u001b[43m=\u001b[49m\u001b[38;5;28;43mself\u001b[39;49m\u001b[43m.\u001b[49m\u001b[43moptions\u001b[49m\u001b[43m.\u001b[49m\u001b[43mget\u001b[49m\u001b[43m(\u001b[49m\u001b[33;43m\"\u001b[39;49m\u001b[33;43mencoding_errors\u001b[39;49m\u001b[33;43m\"\u001b[39;49m\u001b[43m,\u001b[49m\u001b[43m \u001b[49m\u001b[33;43m\"\u001b[39;49m\u001b[33;43mstrict\u001b[39;49m\u001b[33;43m\"\u001b[39;49m\u001b[43m)\u001b[49m\u001b[43m,\u001b[49m\n\u001b[32m   1888\u001b[39m \u001b[43m    \u001b[49m\u001b[43mstorage_options\u001b[49m\u001b[43m=\u001b[49m\u001b[38;5;28;43mself\u001b[39;49m\u001b[43m.\u001b[49m\u001b[43moptions\u001b[49m\u001b[43m.\u001b[49m\u001b[43mget\u001b[49m\u001b[43m(\u001b[49m\u001b[33;43m\"\u001b[39;49m\u001b[33;43mstorage_options\u001b[39;49m\u001b[33;43m\"\u001b[39;49m\u001b[43m,\u001b[49m\u001b[43m \u001b[49m\u001b[38;5;28;43;01mNone\u001b[39;49;00m\u001b[43m)\u001b[49m\u001b[43m,\u001b[49m\n\u001b[32m   1889\u001b[39m \u001b[43m\u001b[49m\u001b[43m)\u001b[49m\n\u001b[32m   1890\u001b[39m \u001b[38;5;28;01massert\u001b[39;00m \u001b[38;5;28mself\u001b[39m.handles \u001b[38;5;129;01mis\u001b[39;00m \u001b[38;5;129;01mnot\u001b[39;00m \u001b[38;5;28;01mNone\u001b[39;00m\n\u001b[32m   1891\u001b[39m f = \u001b[38;5;28mself\u001b[39m.handles.handle\n",
      "\u001b[36mFile \u001b[39m\u001b[32m~\\OneDrive\\Desktop\\fruvube project\\Fruvvibe\\.venv\\Lib\\site-packages\\pandas\\io\\common.py:873\u001b[39m, in \u001b[36mget_handle\u001b[39m\u001b[34m(path_or_buf, mode, encoding, compression, memory_map, is_text, errors, storage_options)\u001b[39m\n\u001b[32m    868\u001b[39m \u001b[38;5;28;01melif\u001b[39;00m \u001b[38;5;28misinstance\u001b[39m(handle, \u001b[38;5;28mstr\u001b[39m):\n\u001b[32m    869\u001b[39m     \u001b[38;5;66;03m# Check whether the filename is to be opened in binary mode.\u001b[39;00m\n\u001b[32m    870\u001b[39m     \u001b[38;5;66;03m# Binary mode does not support 'encoding' and 'newline'.\u001b[39;00m\n\u001b[32m    871\u001b[39m     \u001b[38;5;28;01mif\u001b[39;00m ioargs.encoding \u001b[38;5;129;01mand\u001b[39;00m \u001b[33m\"\u001b[39m\u001b[33mb\u001b[39m\u001b[33m\"\u001b[39m \u001b[38;5;129;01mnot\u001b[39;00m \u001b[38;5;129;01min\u001b[39;00m ioargs.mode:\n\u001b[32m    872\u001b[39m         \u001b[38;5;66;03m# Encoding\u001b[39;00m\n\u001b[32m--> \u001b[39m\u001b[32m873\u001b[39m         handle = \u001b[38;5;28;43mopen\u001b[39;49m\u001b[43m(\u001b[49m\n\u001b[32m    874\u001b[39m \u001b[43m            \u001b[49m\u001b[43mhandle\u001b[49m\u001b[43m,\u001b[49m\n\u001b[32m    875\u001b[39m \u001b[43m            \u001b[49m\u001b[43mioargs\u001b[49m\u001b[43m.\u001b[49m\u001b[43mmode\u001b[49m\u001b[43m,\u001b[49m\n\u001b[32m    876\u001b[39m \u001b[43m            \u001b[49m\u001b[43mencoding\u001b[49m\u001b[43m=\u001b[49m\u001b[43mioargs\u001b[49m\u001b[43m.\u001b[49m\u001b[43mencoding\u001b[49m\u001b[43m,\u001b[49m\n\u001b[32m    877\u001b[39m \u001b[43m            \u001b[49m\u001b[43merrors\u001b[49m\u001b[43m=\u001b[49m\u001b[43merrors\u001b[49m\u001b[43m,\u001b[49m\n\u001b[32m    878\u001b[39m \u001b[43m            \u001b[49m\u001b[43mnewline\u001b[49m\u001b[43m=\u001b[49m\u001b[33;43m\"\u001b[39;49m\u001b[33;43m\"\u001b[39;49m\u001b[43m,\u001b[49m\n\u001b[32m    879\u001b[39m \u001b[43m        \u001b[49m\u001b[43m)\u001b[49m\n\u001b[32m    880\u001b[39m     \u001b[38;5;28;01melse\u001b[39;00m:\n\u001b[32m    881\u001b[39m         \u001b[38;5;66;03m# Binary mode\u001b[39;00m\n\u001b[32m    882\u001b[39m         handle = \u001b[38;5;28mopen\u001b[39m(handle, ioargs.mode)\n",
      "\u001b[31mFileNotFoundError\u001b[39m: [Errno 2] No such file or directory: '../data/raw/fruvibe_survey.csv'"
     ]
    }
   ],
   "source": [
    "import pandas as pd\n",
    "\n",
    "# Load survey + orders\n",
    "survey = pd.read_csv(\"../data/raw/fruvibe_survey.csv\")\n",
    "orders = pd.read_csv(\"../data/raw/fruvibe_orders.csv\")\n",
    "\n",
    "# Quick check\n",
    "print(\"Survey shape:\", survey.shape)\n",
    "print(\"Orders shape:\", orders.shape)\n",
    "\n",
    "survey.head(), orders.head()\n"
   ]
  },
  {
   "cell_type": "code",
   "execution_count": 4,
   "id": "1ffc7ec5-4429-4c3a-96ee-9936b35eb83f",
   "metadata": {},
   "outputs": [
    {
     "name": "stdout",
     "output_type": "stream",
     "text": [
      "C:\\Users\\nivas\\OneDrive\\Desktop\\fruvube project\\Fruvvibe\n"
     ]
    }
   ],
   "source": [
    "import os\n",
    "print(os.getcwd())  # shows current working directory\n",
    "\n"
   ]
  },
  {
   "cell_type": "code",
   "execution_count": 5,
   "id": "cc07ff16-7549-4e6b-80cd-c43d33830c7a",
   "metadata": {},
   "outputs": [
    {
     "name": "stdout",
     "output_type": "stream",
     "text": [
      "Survey shape: (276, 11)\n",
      "Orders shape: (890, 13)\n"
     ]
    },
    {
     "data": {
      "text/plain": [
       "(   RespondentID  Age Income_Level PostcodeDistrict             AreaGroup  \\\n",
       " 0             1   47      20k-40k              E14             Docklands   \n",
       " 1             2   59         <20k              IG3      Ilford-Redbridge   \n",
       " 2             3   19         <20k               E2  Hackney-BethnalGreen   \n",
       " 3             4   18      40k-60k               E1             Docklands   \n",
       " 4             5   29         <20k               E7     Stratford-EastHam   \n",
       " \n",
       "   Preferred_Type Preferred_Plan                 Preferred_Platter  \\\n",
       " 0   Subscription        Essence                               NaN   \n",
       " 1        OneTime            NaN          Immunity Booster Platter   \n",
       " 2        OneTime            NaN  Heart-Healthy & Vitality Platter   \n",
       " 3   Subscription        Everjoy                               NaN   \n",
       " 4        OneTime            NaN          Immunity Booster Platter   \n",
       " \n",
       "   Subscription_Interest DeliveryWindow_Preference Purchase_Frequency  \n",
       " 0                   Yes                   Morning          Bi-Weekly  \n",
       " 1                    No                   Evening          Bi-Weekly  \n",
       " 2                    No                   Evening          Bi-Weekly  \n",
       " 3                   Yes                   Morning            Monthly  \n",
       " 4                   Yes                   Evening             Weekly  ,\n",
       "    OrderID   OrderDate PostcodeDistrict          AreaGroup     OrderType  \\\n",
       " 0        1  16-03-2025              IG6   Ilford-Redbridge       OneTime   \n",
       " 1        2  16-03-2025              E12  Stratford-EastHam       OneTime   \n",
       " 2        3  16-03-2025              IG2   Ilford-Redbridge  Subscription   \n",
       " 3        4  16-03-2025              E13  Stratford-EastHam       OneTime   \n",
       " 4        5  17-03-2025               E6  Stratford-EastHam       OneTime   \n",
       " \n",
       "       Plan                     Product  UnitPrice  Quantity  Revenue  \\\n",
       " 0      NaN    Immunity Booster Platter       6.65         1     6.65   \n",
       " 1      NaN  Strength & Stamina Platter       6.65         1     6.65   \n",
       " 2  Elevate                     Elevate      39.75         1    39.75   \n",
       " 3      NaN    Immunity Booster Platter       6.65         1     6.65   \n",
       " 4      NaN    Immunity Booster Platter       6.65         1     6.65   \n",
       " \n",
       "   DeliverySlot OnTime Fulfilled  \n",
       " 0      Evening    Yes       Yes  \n",
       " 1      Morning    Yes       Yes  \n",
       " 2      Morning    Yes       Yes  \n",
       " 3      Morning    Yes       Yes  \n",
       " 4      Morning    Yes       Yes  )"
      ]
     },
     "execution_count": 5,
     "metadata": {},
     "output_type": "execute_result"
    }
   ],
   "source": [
    "import pandas as pd\n",
    "\n",
    "# Load survey + orders\n",
    "survey = pd.read_csv(\"data/raw/fruvibe_survey.csv\")\n",
    "orders = pd.read_csv(\"data/raw/fruvibe_orders.csv\")\n",
    "\n",
    "# Quick check\n",
    "print(\"Survey shape:\", survey.shape)\n",
    "print(\"Orders shape:\", orders.shape)\n",
    "\n",
    "survey.head(), orders.head()\n"
   ]
  },
  {
   "cell_type": "code",
   "execution_count": 6,
   "id": "fe5ca398-0606-44d5-8050-8cf9eb052c32",
   "metadata": {},
   "outputs": [
    {
     "name": "stdout",
     "output_type": "stream",
     "text": [
      "Orders shape: (890, 13)\n",
      "Survey shape: (276, 11)\n",
      "\n",
      "Nulls — Orders:\n",
      " OrderID               0\n",
      "OrderDate             0\n",
      "PostcodeDistrict      0\n",
      "AreaGroup             0\n",
      "OrderType             0\n",
      "Plan                611\n",
      "Product               0\n",
      "UnitPrice             0\n",
      "Quantity              0\n",
      "Revenue               0\n",
      "DeliverySlot          0\n",
      "OnTime                0\n",
      "Fulfilled             0\n",
      "dtype: int64\n",
      "\n",
      "Nulls — Survey:\n",
      " RespondentID                   0\n",
      "Age                            0\n",
      "Income_Level                   0\n",
      "PostcodeDistrict               0\n",
      "AreaGroup                      0\n",
      "Preferred_Type                 0\n",
      "Preferred_Plan               173\n",
      "Preferred_Platter            103\n",
      "Subscription_Interest          0\n",
      "DeliveryWindow_Preference      0\n",
      "Purchase_Frequency             0\n",
      "dtype: int64\n",
      "\n",
      "Dtypes — Orders:\n",
      " OrderID               int64\n",
      "OrderDate            object\n",
      "PostcodeDistrict     object\n",
      "AreaGroup            object\n",
      "OrderType            object\n",
      "Plan                 object\n",
      "Product              object\n",
      "UnitPrice           float64\n",
      "Quantity              int64\n",
      "Revenue             float64\n",
      "DeliverySlot         object\n",
      "OnTime               object\n",
      "Fulfilled            object\n",
      "dtype: object\n",
      "\n",
      "Dtypes — Survey:\n",
      " RespondentID                  int64\n",
      "Age                           int64\n",
      "Income_Level                 object\n",
      "PostcodeDistrict             object\n",
      "AreaGroup                    object\n",
      "Preferred_Type               object\n",
      "Preferred_Plan               object\n",
      "Preferred_Platter            object\n",
      "Subscription_Interest        object\n",
      "DeliveryWindow_Preference    object\n",
      "Purchase_Frequency           object\n",
      "dtype: object\n",
      "\n",
      "Duplicates — Orders: 0\n",
      "Duplicates — Survey: 0\n"
     ]
    }
   ],
   "source": [
    "print(\"Orders shape:\", orders.shape)\n",
    "print(\"Survey shape:\", survey.shape)\n",
    "\n",
    "print(\"\\nNulls — Orders:\\n\", orders.isna().sum())\n",
    "print(\"\\nNulls — Survey:\\n\", survey.isna().sum())\n",
    "\n",
    "print(\"\\nDtypes — Orders:\\n\", orders.dtypes)\n",
    "print(\"\\nDtypes — Survey:\\n\", survey.dtypes)\n",
    "\n",
    "print(\"\\nDuplicates — Orders:\", orders.duplicated().sum())\n",
    "print(\"Duplicates — Survey:\", survey.duplicated().sum())\n"
   ]
  },
  {
   "cell_type": "code",
   "execution_count": 7,
   "id": "0365c806-02d0-4b21-9864-7521bd80d83c",
   "metadata": {},
   "outputs": [
    {
     "name": "stderr",
     "output_type": "stream",
     "text": [
      "C:\\Users\\nivas\\AppData\\Local\\Temp\\ipykernel_6088\\3879551339.py:9: UserWarning: Parsing dates in %d-%m-%Y format when dayfirst=False (the default) was specified. Pass `dayfirst=True` or specify a format to silence this warning.\n",
      "  orders[\"OrderDate\"] = pd.to_datetime(orders[\"OrderDate\"], errors=\"coerce\")\n"
     ]
    },
    {
     "data": {
      "text/plain": [
       "(   OrderID  OrderDate PostcodeDistrict          AreaGroup OrderType Plan  \\\n",
       " 0        1 2025-03-16              IG6   Ilford-Redbridge   OneTime  nan   \n",
       " 1        2 2025-03-16              E12  Stratford-EastHam   OneTime  nan   \n",
       " \n",
       "                       Product  UnitPrice  Quantity  Revenue DeliverySlot  \\\n",
       " 0    Immunity Booster Platter       6.65         1     6.65      Evening   \n",
       " 1  Strength & Stamina Platter       6.65         1     6.65      Morning   \n",
       " \n",
       "   OnTime Fulfilled  \n",
       " 0    Yes       Yes  \n",
       " 1    Yes       Yes  ,\n",
       "    RespondentID  Age Income_Level PostcodeDistrict         AreaGroup  \\\n",
       " 0             1   47      20k-40k              E14         Docklands   \n",
       " 1             2   59         <20k              IG3  Ilford-Redbridge   \n",
       " \n",
       "   Preferred_Type Preferred_Plan         Preferred_Platter  \\\n",
       " 0   Subscription        Essence                       nan   \n",
       " 1        OneTime            nan  Immunity Booster Platter   \n",
       " \n",
       "   Subscription_Interest DeliveryWindow_Preference Purchase_Frequency  \n",
       " 0                   Yes                   Morning          Bi-Weekly  \n",
       " 1                    No                   Evening          Bi-Weekly  )"
      ]
     },
     "execution_count": 7,
     "metadata": {},
     "output_type": "execute_result"
    }
   ],
   "source": [
    "import numpy as np\n",
    "\n",
    "# strip whitespace on all object columns\n",
    "for df in (orders, survey):\n",
    "    for c in df.select_dtypes(include=\"object\").columns:\n",
    "        df[c] = df[c].astype(str).str.strip()\n",
    "\n",
    "# parse date\n",
    "orders[\"OrderDate\"] = pd.to_datetime(orders[\"OrderDate\"], errors=\"coerce\")\n",
    "\n",
    "# expected categories (safety)\n",
    "valid_types = {\"Subscription\",\"OneTime\"}\n",
    "valid_slots = {\"Morning\",\"Evening\"}\n",
    "valid_yesno = {\"Yes\",\"No\"}\n",
    "\n",
    "def enforce(series, allowed):\n",
    "    return np.where(series.isin(allowed), series, np.nan)\n",
    "\n",
    "orders[\"OrderType\"]    = enforce(orders[\"OrderType\"], valid_types)\n",
    "orders[\"DeliverySlot\"] = enforce(orders[\"DeliverySlot\"], valid_slots)\n",
    "orders[\"OnTime\"]       = enforce(orders[\"OnTime\"], valid_yesno)\n",
    "orders[\"Fulfilled\"]    = enforce(orders[\"Fulfilled\"], valid_yesno)\n",
    "\n",
    "# drop exact duplicate rows (if any)\n",
    "orders = orders.drop_duplicates()\n",
    "survey = survey.drop_duplicates()\n",
    "\n",
    "orders.head(2), survey.head(2)\n"
   ]
  },
  {
   "cell_type": "code",
   "execution_count": 8,
   "id": "970ca8f5-454a-4b90-a647-c86fb1477d44",
   "metadata": {},
   "outputs": [],
   "source": [
    "# Re-parse dates with an explicit format (your orders are YYYY-MM-DD)\n",
    "orders[\"OrderDate\"] = pd.to_datetime(\n",
    "    orders[\"OrderDate\"], format=\"%Y-%m-%d\", errors=\"coerce\"\n",
    ")\n"
   ]
  },
  {
   "cell_type": "code",
   "execution_count": 9,
   "id": "f3b02373-c06a-4cb9-b360-a0fe88d9489f",
   "metadata": {},
   "outputs": [],
   "source": [
    "import pandas as pd\n",
    "import numpy as np\n",
    "\n",
    "def clean_object_columns(df):\n",
    "    for c in df.columns:\n",
    "        if df[c].dtype == object:\n",
    "            # strip while preserving NaNs\n",
    "            df[c] = df[c].where(df[c].notna(), pd.NA)          # keep missing as NA\n",
    "            df[c] = df[c].astype(\"string\").str.strip()         # Pandas StringDtype\n",
    "            # turn accidental text 'nan' / '' back into real missing\n",
    "            df[c] = df[c].replace({\"nan\": pd.NA, \"NaN\": pd.NA, \"\": pd.NA})\n",
    "\n",
    "clean_object_columns(orders)\n",
    "clean_object_columns(survey)\n"
   ]
  },
  {
   "cell_type": "code",
   "execution_count": 10,
   "id": "21e37a58-fa4f-4b85-a921-85b2686dcc8d",
   "metadata": {},
   "outputs": [
    {
     "name": "stdout",
     "output_type": "stream",
     "text": [
      "      Plan                     Product\n",
      "0     <NA>    Immunity Booster Platter\n",
      "1     <NA>  Strength & Stamina Platter\n",
      "2  Elevate                     Elevate\n",
      "\n",
      "Nulls — Orders:\n",
      " OrderID               0\n",
      "OrderDate             0\n",
      "PostcodeDistrict      0\n",
      "AreaGroup             0\n",
      "OrderType             0\n",
      "Plan                611\n",
      "Product               0\n",
      "UnitPrice             0\n",
      "Quantity              0\n",
      "Revenue               0\n",
      "DeliverySlot          0\n",
      "OnTime                0\n",
      "Fulfilled             0\n",
      "dtype: int64\n",
      "\n",
      "Orders dtypes:\n",
      " OrderID                      int64\n",
      "OrderDate           datetime64[ns]\n",
      "PostcodeDistrict    string[python]\n",
      "AreaGroup           string[python]\n",
      "OrderType           string[python]\n",
      "Plan                string[python]\n",
      "Product             string[python]\n",
      "UnitPrice                  float64\n",
      "Quantity                     int64\n",
      "Revenue                    float64\n",
      "DeliverySlot        string[python]\n",
      "OnTime              string[python]\n",
      "Fulfilled           string[python]\n",
      "dtype: object\n"
     ]
    }
   ],
   "source": [
    "print(orders[[\"Plan\",\"Product\"]].head(3))\n",
    "print(\"\\nNulls — Orders:\\n\", orders.isna().sum())\n",
    "print(\"\\nOrders dtypes:\\n\", orders.dtypes)\n"
   ]
  },
  {
   "cell_type": "code",
   "execution_count": 11,
   "id": "a62234ce-ddf2-4f04-a46a-8cef24eaa224",
   "metadata": {},
   "outputs": [
    {
     "data": {
      "text/plain": [
       "(   OrderID  OrderDate PostcodeDistrict          AreaGroup     OrderType  \\\n",
       " 0        1 2025-03-16              IG6   Ilford-Redbridge       OneTime   \n",
       " 1        2 2025-03-16              E12  Stratford-EastHam       OneTime   \n",
       " 2        3 2025-03-16              IG2   Ilford-Redbridge  Subscription   \n",
       " \n",
       "       Plan                     Product  UnitPrice  Quantity  Revenue  \\\n",
       " 0     <NA>    Immunity Booster Platter       6.65         1     6.65   \n",
       " 1     <NA>  Strength & Stamina Platter       6.65         1     6.65   \n",
       " 2  Elevate                     Elevate      39.75         1    39.75   \n",
       " \n",
       "   DeliverySlot OnTime Fulfilled PrePostPilot  IsSubscription  IsEvening  \\\n",
       " 0      Evening    Yes       Yes    Pre-Pilot               0          1   \n",
       " 1      Morning    Yes       Yes    Pre-Pilot               0          0   \n",
       " 2      Morning    Yes       Yes    Pre-Pilot               1          0   \n",
       " \n",
       "    IsOnTime    Month  \n",
       " 0         1  2025-03  \n",
       " 1         1  2025-03  \n",
       " 2         1  2025-03  ,\n",
       "    RespondentID  Age Income_Level PostcodeDistrict             AreaGroup  \\\n",
       " 0             1   47      20k-40k              E14             Docklands   \n",
       " 1             2   59         <20k              IG3      Ilford-Redbridge   \n",
       " 2             3   19         <20k               E2  Hackney-BethnalGreen   \n",
       " \n",
       "   Preferred_Type Preferred_Plan                 Preferred_Platter  \\\n",
       " 0   Subscription        Essence                              <NA>   \n",
       " 1        OneTime           <NA>          Immunity Booster Platter   \n",
       " 2        OneTime           <NA>  Heart-Healthy & Vitality Platter   \n",
       " \n",
       "   Subscription_Interest DeliveryWindow_Preference Purchase_Frequency  \\\n",
       " 0                   Yes                   Morning          Bi-Weekly   \n",
       " 1                    No                   Evening          Bi-Weekly   \n",
       " 2                    No                   Evening          Bi-Weekly   \n",
       " \n",
       "   Age_Group  Loyalty_Score Loyalty_Segment  \n",
       " 0     46-60              2          Medium  \n",
       " 1     46-60              2          Medium  \n",
       " 2     18-25              2          Medium  )"
      ]
     },
     "execution_count": 11,
     "metadata": {},
     "output_type": "execute_result"
    }
   ],
   "source": [
    "# Define pilot date (evening deliveries test)\n",
    "pilot_start = pd.Timestamp(\"2025-06-10\")\n",
    "\n",
    "# Orders features\n",
    "orders[\"PrePostPilot\"] = np.where(\n",
    "    orders[\"OrderDate\"] < pilot_start, \"Pre-Pilot\", \"Post-Pilot\"\n",
    ")\n",
    "orders[\"IsSubscription\"] = (orders[\"OrderType\"] == \"Subscription\").astype(int)\n",
    "orders[\"IsEvening\"] = (orders[\"DeliverySlot\"] == \"Evening\").astype(int)\n",
    "orders[\"IsOnTime\"] = (orders[\"OnTime\"] == \"Yes\").astype(int)\n",
    "orders[\"Month\"] = orders[\"OrderDate\"].dt.to_period(\"M\").astype(str)\n",
    "\n",
    "# Survey features\n",
    "bins = [18,25,35,45,60]\n",
    "labels = [\"18-25\",\"26-35\",\"36-45\",\"46-60\"]\n",
    "survey[\"Age_Group\"] = pd.cut(\n",
    "    survey[\"Age\"], bins=bins, labels=labels, include_lowest=True, right=True\n",
    ")\n",
    "\n",
    "freq_map = {\"Weekly\":3, \"Bi-Weekly\":2, \"Monthly\":1}\n",
    "survey[\"Loyalty_Score\"] = survey[\"Purchase_Frequency\"].map(freq_map)\n",
    "survey[\"Loyalty_Segment\"] = survey[\"Loyalty_Score\"].map({3:\"High\",2:\"Medium\",1:\"Low\"})\n",
    "\n",
    "orders.head(3), survey.head(3)\n"
   ]
  },
  {
   "cell_type": "code",
   "execution_count": 12,
   "id": "1ff1814b-9dc3-4cef-a7b0-19324f80e4c3",
   "metadata": {},
   "outputs": [
    {
     "name": "stdout",
     "output_type": "stream",
     "text": [
      "All sanity checks passed ✅\n",
      "Files saved → data/processed/\n"
     ]
    }
   ],
   "source": [
    "# Sanity checks\n",
    "assert orders[\"OrderDate\"].between(\"2025-03-16\",\"2025-07-07\").all()\n",
    "assert set(orders[\"OrderType\"].dropna().unique()).issubset({\"Subscription\",\"OneTime\"})\n",
    "assert set(orders[\"DeliverySlot\"].dropna().unique()).issubset({\"Morning\",\"Evening\"})\n",
    "assert set(orders[\"OnTime\"].dropna().unique()).issubset({\"Yes\",\"No\"})\n",
    "assert set(orders[\"Fulfilled\"].dropna().unique()).issubset({\"Yes\",\"No\"})\n",
    "assert set(survey[\"Subscription_Interest\"].dropna().unique()).issubset({\"Yes\",\"No\"})\n",
    "print(\"All sanity checks passed ✅\")\n",
    "\n",
    "# Save cleaned files\n",
    "from pathlib import Path\n",
    "PROCESSED = Path(\"data/processed\")\n",
    "PROCESSED.mkdir(parents=True, exist_ok=True)\n",
    "\n",
    "orders.to_csv(PROCESSED / \"orders_clean.csv\", index=False)\n",
    "survey.to_csv(PROCESSED / \"survey_clean.csv\", index=False)\n",
    "\n",
    "print(\"Files saved → data/processed/\")\n"
   ]
  },
  {
   "cell_type": "code",
   "execution_count": null,
   "id": "0f5c0ee4-81c3-4d2f-8124-ce36db02a589",
   "metadata": {},
   "outputs": [],
   "source": []
  }
 ],
 "metadata": {
  "kernelspec": {
   "display_name": "Python 3 (ipykernel)",
   "language": "python",
   "name": "python3"
  },
  "language_info": {
   "codemirror_mode": {
    "name": "ipython",
    "version": 3
   },
   "file_extension": ".py",
   "mimetype": "text/x-python",
   "name": "python",
   "nbconvert_exporter": "python",
   "pygments_lexer": "ipython3",
   "version": "3.13.7"
  }
 },
 "nbformat": 4,
 "nbformat_minor": 5
}
